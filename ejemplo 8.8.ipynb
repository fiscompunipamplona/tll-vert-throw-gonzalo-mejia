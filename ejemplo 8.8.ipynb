{
 "cells": [
  {
   "cell_type": "markdown",
   "metadata": {},
   "source": [
    "EJEMPLO 8.8:\n",
    "POSICIÓN VERTICAL DE UNA BOLA LANZADA.\n",
    "\n",
    "Solucionemos el problema con la bola arrojada para el caso en el que la bola aterriza de nuevo en x = 0 después de t = 0 segundos. El primer paso, como es normal para las ecuaciones de segundo orden, es convertir la siguiente ecuación;\n",
    "\n",
    "\\begin{equation}\n",
    "\\frac{\\partial^2x }{\\partial t^2}=-g\n",
    "\\end{equation}\n",
    "\n",
    "En dos ecuaciones de primer orden:\n",
    "\n",
    "\\begin{equation}\n",
    "\\frac{\\partial x}{\\partial t}=y\n",
    "\\end{equation}\n",
    "\n",
    "\\begin{equation}\n",
    "\\frac{\\partial y}{\\partial t}=-g\n",
    "\\end{equation}\n",
    "\n",
    "El cuál resolveremos usando Runge-Kutta de cuarto orden, luego realizaremos una búsqueda binaria para encontrar el valor de la velocidad inicial que coincida con las condiciones de contorno. Aquí hay un programa para realizar el cálculo:"
   ]
  },
  {
   "cell_type": "code",
   "execution_count": 2,
   "metadata": {},
   "outputs": [],
   "source": [
    "from scipy import array, arange, sum, sqrt\n",
    "from pylab import plot, show, xlabel, ylabel\n",
    "from numpy import array,linspace,arange"
   ]
  },
  {
   "cell_type": "code",
   "execution_count": 4,
   "metadata": {},
   "outputs": [
    {
     "name": "stdout",
     "output_type": "stream",
     "text": [
      "la velocidad inical requerida V es 48.99098368013097 m/s\n"
     ]
    }
   ],
   "source": [
    "\n",
    "g=9.8 #Aceleración debido a la gravedad\n",
    "a=0.0 #Tiempo inicial\n",
    "b=10.0 #Tiempo final\n",
    "N=1000 # Numero de pasos Runge-Kutta\n",
    "h=(b-a)/N # Tamaño de los pasos Runge-Kutta\n",
    "Presición=1e-10 # Presición del objeto para búsqueda binaria\n",
    "\n",
    "\n",
    "def f(r):\n",
    "    x=r[0]\n",
    "    y=r[1]\n",
    "    fx=y\n",
    "    fy=-g\n",
    "    return array([fx,fy],float)\n",
    "\n",
    "#Función para resolver la ecuación y calcular la altura final.\n",
    "\n",
    "def altura(v):\n",
    "    r=array([0.0,v],float)\n",
    "    for t in arange(a,b,h):\n",
    "        k1=h*f(r)\n",
    "        k2=h*f(r+0.5*k1)\n",
    "        k3=h*f(r+0.5*k2)\n",
    "        k4=h*f(r*k3)\n",
    "        r+=(k1+2*k2+2*k3+k4)/6\n",
    "    return r[0]\n",
    "\n",
    "#Programa principal el cual realiza una búsqueda binaria.\n",
    "\n",
    "v1=0.01\n",
    "v2=1000.0\n",
    "h1=altura(v1)\n",
    "h2=altura(v2)\n",
    "\n",
    "while abs(h2-h1)>Presición:\n",
    "    vp=(v1+v2)/2\n",
    "    hp=altura(vp)\n",
    "    if h1*hp>0:\n",
    "        v1=vp\n",
    "        h1=hp\n",
    "    else:\n",
    "        v2=vp\n",
    "        h2=hp\n",
    "v=(v1+v2)/2\n",
    "print(\"la velocidad inical requerida V es\",v,\"m/s\")"
   ]
  },
  {
   "cell_type": "markdown",
   "metadata": {},
   "source": [
    "Un punto a tener en cuenta sobre este programa es que la condición para que la búsqueda binaria se detenga es una condición sobre la precisión de la altura de la pelota en el tiempo final t 10, no una condición sobre la velocidad inicial."
   ]
  },
  {
   "cell_type": "code",
   "execution_count": null,
   "metadata": {},
   "outputs": [],
   "source": []
  }
 ],
 "metadata": {
  "kernelspec": {
   "display_name": "Python 3",
   "language": "python",
   "name": "python3"
  },
  "language_info": {
   "codemirror_mode": {
    "name": "ipython",
    "version": 3
   },
   "file_extension": ".py",
   "mimetype": "text/x-python",
   "name": "python",
   "nbconvert_exporter": "python",
   "pygments_lexer": "ipython3",
   "version": "3.5.2"
  }
 },
 "nbformat": 4,
 "nbformat_minor": 2
}
